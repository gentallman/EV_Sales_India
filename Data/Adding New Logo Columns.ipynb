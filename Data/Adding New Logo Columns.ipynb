{
 "cells": [
  {
   "cell_type": "code",
   "execution_count": 1,
   "id": "4aab7f29",
   "metadata": {},
   "outputs": [],
   "source": [
    "import numpy as np  # For numerical operations\n",
    "import pandas as pd  # For data manipulation"
   ]
  },
  {
   "cell_type": "code",
   "execution_count": 2,
   "id": "a4d44313",
   "metadata": {},
   "outputs": [],
   "source": [
    "makers = pd.read_csv(\"electric_vehicle_sales_by_makers.csv\")\n",
    "states = pd.read_csv(\"electric_vehicle_sales_by_state.csv\")\n",
    "dim = pd.read_csv(\"dim_date.csv\")"
   ]
  },
  {
   "cell_type": "code",
   "execution_count": 3,
   "id": "1ac976cb",
   "metadata": {},
   "outputs": [],
   "source": [
    "def explore(df):\n",
    "    with pd.option_context(\"display.max_colwidth\", 20):\n",
    "        info = pd.DataFrame()\n",
    "        info['data type'] = df.dtypes\n",
    "        info['percent missing'] = df.isnull().sum()*100/len(df)\n",
    "        info['No. unique'] = df.apply(lambda x: len(x.unique()))\n",
    "        info['unique values'] = df.apply(lambda x: x.unique())\n",
    "        return info.sort_values('data type')"
   ]
  },
  {
   "cell_type": "code",
   "execution_count": 4,
   "id": "acc2233b",
   "metadata": {},
   "outputs": [
    {
     "data": {
      "text/html": [
       "<div>\n",
       "<style scoped>\n",
       "    .dataframe tbody tr th:only-of-type {\n",
       "        vertical-align: middle;\n",
       "    }\n",
       "\n",
       "    .dataframe tbody tr th {\n",
       "        vertical-align: top;\n",
       "    }\n",
       "\n",
       "    .dataframe thead th {\n",
       "        text-align: right;\n",
       "    }\n",
       "</style>\n",
       "<table border=\"1\" class=\"dataframe\">\n",
       "  <thead>\n",
       "    <tr style=\"text-align: right;\">\n",
       "      <th></th>\n",
       "      <th>data type</th>\n",
       "      <th>percent missing</th>\n",
       "      <th>No. unique</th>\n",
       "      <th>unique values</th>\n",
       "    </tr>\n",
       "  </thead>\n",
       "  <tbody>\n",
       "    <tr>\n",
       "      <th>electric_vehicles_sold</th>\n",
       "      <td>int64</td>\n",
       "      <td>0.0</td>\n",
       "      <td>603</td>\n",
       "      <td>[0, 322, 118, 171, 12, 3, 1409, 177, 611, 15, ...</td>\n",
       "    </tr>\n",
       "    <tr>\n",
       "      <th>date</th>\n",
       "      <td>object</td>\n",
       "      <td>0.0</td>\n",
       "      <td>36</td>\n",
       "      <td>[01-Apr-21, 01-Apr-22, 01-May-21, 01-Jun-21, 0...</td>\n",
       "    </tr>\n",
       "    <tr>\n",
       "      <th>vehicle_category</th>\n",
       "      <td>object</td>\n",
       "      <td>0.0</td>\n",
       "      <td>2</td>\n",
       "      <td>[2-Wheelers, 4-Wheelers]</td>\n",
       "    </tr>\n",
       "    <tr>\n",
       "      <th>maker</th>\n",
       "      <td>object</td>\n",
       "      <td>0.0</td>\n",
       "      <td>26</td>\n",
       "      <td>[OLA ELECTRIC, OKAYA EV, BYD India, PCA Automo...</td>\n",
       "    </tr>\n",
       "  </tbody>\n",
       "</table>\n",
       "</div>"
      ],
      "text/plain": [
       "                       data type  percent missing  No. unique  \\\n",
       "electric_vehicles_sold     int64              0.0         603   \n",
       "date                      object              0.0          36   \n",
       "vehicle_category          object              0.0           2   \n",
       "maker                     object              0.0          26   \n",
       "\n",
       "                                                            unique values  \n",
       "electric_vehicles_sold  [0, 322, 118, 171, 12, 3, 1409, 177, 611, 15, ...  \n",
       "date                    [01-Apr-21, 01-Apr-22, 01-May-21, 01-Jun-21, 0...  \n",
       "vehicle_category                                 [2-Wheelers, 4-Wheelers]  \n",
       "maker                   [OLA ELECTRIC, OKAYA EV, BYD India, PCA Automo...  "
      ]
     },
     "execution_count": 4,
     "metadata": {},
     "output_type": "execute_result"
    }
   ],
   "source": [
    "explore(makers)"
   ]
  },
  {
   "cell_type": "code",
   "execution_count": 5,
   "id": "e42b1d04",
   "metadata": {},
   "outputs": [
    {
     "data": {
      "text/html": [
       "<div>\n",
       "<style scoped>\n",
       "    .dataframe tbody tr th:only-of-type {\n",
       "        vertical-align: middle;\n",
       "    }\n",
       "\n",
       "    .dataframe tbody tr th {\n",
       "        vertical-align: top;\n",
       "    }\n",
       "\n",
       "    .dataframe thead th {\n",
       "        text-align: right;\n",
       "    }\n",
       "</style>\n",
       "<table border=\"1\" class=\"dataframe\">\n",
       "  <thead>\n",
       "    <tr style=\"text-align: right;\">\n",
       "      <th></th>\n",
       "      <th>data type</th>\n",
       "      <th>percent missing</th>\n",
       "      <th>No. unique</th>\n",
       "      <th>unique values</th>\n",
       "    </tr>\n",
       "  </thead>\n",
       "  <tbody>\n",
       "    <tr>\n",
       "      <th>electric_vehicles_sold</th>\n",
       "      <td>int64</td>\n",
       "      <td>0.0</td>\n",
       "      <td>921</td>\n",
       "      <td>[0, 1, 9, 26, 4, 2, 61, 8, 44, 3, 90, 132, 96,...</td>\n",
       "    </tr>\n",
       "    <tr>\n",
       "      <th>total_vehicles_sold</th>\n",
       "      <td>int64</td>\n",
       "      <td>0.0</td>\n",
       "      <td>2225</td>\n",
       "      <td>[398, 361, 113, 98, 229, 244, 458, 452, 489, 4...</td>\n",
       "    </tr>\n",
       "    <tr>\n",
       "      <th>date</th>\n",
       "      <td>object</td>\n",
       "      <td>0.0</td>\n",
       "      <td>36</td>\n",
       "      <td>[01-Apr-21, 01-May-21, 01-Jun-21, 01-Jul-21, 0...</td>\n",
       "    </tr>\n",
       "    <tr>\n",
       "      <th>state</th>\n",
       "      <td>object</td>\n",
       "      <td>0.0</td>\n",
       "      <td>35</td>\n",
       "      <td>[Sikkim, Andaman &amp; Nicobar Island, Arunachal P...</td>\n",
       "    </tr>\n",
       "    <tr>\n",
       "      <th>vehicle_category</th>\n",
       "      <td>object</td>\n",
       "      <td>0.0</td>\n",
       "      <td>2</td>\n",
       "      <td>[2-Wheelers, 4-Wheelers]</td>\n",
       "    </tr>\n",
       "  </tbody>\n",
       "</table>\n",
       "</div>"
      ],
      "text/plain": [
       "                       data type  percent missing  No. unique  \\\n",
       "electric_vehicles_sold     int64              0.0         921   \n",
       "total_vehicles_sold        int64              0.0        2225   \n",
       "date                      object              0.0          36   \n",
       "state                     object              0.0          35   \n",
       "vehicle_category          object              0.0           2   \n",
       "\n",
       "                                                            unique values  \n",
       "electric_vehicles_sold  [0, 1, 9, 26, 4, 2, 61, 8, 44, 3, 90, 132, 96,...  \n",
       "total_vehicles_sold     [398, 361, 113, 98, 229, 244, 458, 452, 489, 4...  \n",
       "date                    [01-Apr-21, 01-May-21, 01-Jun-21, 01-Jul-21, 0...  \n",
       "state                   [Sikkim, Andaman & Nicobar Island, Arunachal P...  \n",
       "vehicle_category                                 [2-Wheelers, 4-Wheelers]  "
      ]
     },
     "execution_count": 5,
     "metadata": {},
     "output_type": "execute_result"
    }
   ],
   "source": [
    "explore(states)"
   ]
  },
  {
   "cell_type": "code",
   "execution_count": 6,
   "id": "ccbaab30",
   "metadata": {},
   "outputs": [
    {
     "data": {
      "text/html": [
       "<div>\n",
       "<style scoped>\n",
       "    .dataframe tbody tr th:only-of-type {\n",
       "        vertical-align: middle;\n",
       "    }\n",
       "\n",
       "    .dataframe tbody tr th {\n",
       "        vertical-align: top;\n",
       "    }\n",
       "\n",
       "    .dataframe thead th {\n",
       "        text-align: right;\n",
       "    }\n",
       "</style>\n",
       "<table border=\"1\" class=\"dataframe\">\n",
       "  <thead>\n",
       "    <tr style=\"text-align: right;\">\n",
       "      <th></th>\n",
       "      <th>data type</th>\n",
       "      <th>percent missing</th>\n",
       "      <th>No. unique</th>\n",
       "      <th>unique values</th>\n",
       "    </tr>\n",
       "  </thead>\n",
       "  <tbody>\n",
       "    <tr>\n",
       "      <th>fiscal_year</th>\n",
       "      <td>int64</td>\n",
       "      <td>0.0</td>\n",
       "      <td>3</td>\n",
       "      <td>[2022, 2023, 2024]</td>\n",
       "    </tr>\n",
       "    <tr>\n",
       "      <th>date</th>\n",
       "      <td>object</td>\n",
       "      <td>0.0</td>\n",
       "      <td>36</td>\n",
       "      <td>[01-Apr-21, 01-May-21, 01-Jun-21, 01-Jul-21, 0...</td>\n",
       "    </tr>\n",
       "    <tr>\n",
       "      <th>quarter</th>\n",
       "      <td>object</td>\n",
       "      <td>0.0</td>\n",
       "      <td>4</td>\n",
       "      <td>[Q1, Q2, Q3, Q4]</td>\n",
       "    </tr>\n",
       "  </tbody>\n",
       "</table>\n",
       "</div>"
      ],
      "text/plain": [
       "            data type  percent missing  No. unique  \\\n",
       "fiscal_year     int64              0.0           3   \n",
       "date           object              0.0          36   \n",
       "quarter        object              0.0           4   \n",
       "\n",
       "                                                 unique values  \n",
       "fiscal_year                                 [2022, 2023, 2024]  \n",
       "date         [01-Apr-21, 01-May-21, 01-Jun-21, 01-Jul-21, 0...  \n",
       "quarter                                       [Q1, Q2, Q3, Q4]  "
      ]
     },
     "execution_count": 6,
     "metadata": {},
     "output_type": "execute_result"
    }
   ],
   "source": [
    "explore(dim)"
   ]
  },
  {
   "cell_type": "markdown",
   "id": "43286d17",
   "metadata": {},
   "source": [
    "##### To convert a column in a DataFrame from object type to date format in pandas, we can use the pd.to_datetime() function."
   ]
  },
  {
   "cell_type": "code",
   "execution_count": 7,
   "id": "4a0c6367",
   "metadata": {},
   "outputs": [],
   "source": [
    "makers['date'] = pd.to_datetime(makers['date'], format='%d-%b-%y').dt.date\n",
    "states['date'] = pd.to_datetime(states['date'], format='%d-%b-%y').dt.date\n",
    "dim['date'] = pd.to_datetime(dim['date'], format='%d-%b-%y').dt.date"
   ]
  },
  {
   "cell_type": "code",
   "execution_count": 8,
   "id": "bb1aae43",
   "metadata": {},
   "outputs": [
    {
     "data": {
      "text/html": [
       "<div>\n",
       "<style scoped>\n",
       "    .dataframe tbody tr th:only-of-type {\n",
       "        vertical-align: middle;\n",
       "    }\n",
       "\n",
       "    .dataframe tbody tr th {\n",
       "        vertical-align: top;\n",
       "    }\n",
       "\n",
       "    .dataframe thead th {\n",
       "        text-align: right;\n",
       "    }\n",
       "</style>\n",
       "<table border=\"1\" class=\"dataframe\">\n",
       "  <thead>\n",
       "    <tr style=\"text-align: right;\">\n",
       "      <th></th>\n",
       "      <th>data type</th>\n",
       "      <th>percent missing</th>\n",
       "      <th>No. unique</th>\n",
       "      <th>unique values</th>\n",
       "    </tr>\n",
       "  </thead>\n",
       "  <tbody>\n",
       "    <tr>\n",
       "      <th>electric_vehicles_sold</th>\n",
       "      <td>int64</td>\n",
       "      <td>0.0</td>\n",
       "      <td>603</td>\n",
       "      <td>[0, 322, 118, 171, 12, 3, 1409, 177, 611, 15, ...</td>\n",
       "    </tr>\n",
       "    <tr>\n",
       "      <th>date</th>\n",
       "      <td>object</td>\n",
       "      <td>0.0</td>\n",
       "      <td>36</td>\n",
       "      <td>[2021-04-01, 2022-04-01, 2021-05-01, 2021-06-0...</td>\n",
       "    </tr>\n",
       "    <tr>\n",
       "      <th>vehicle_category</th>\n",
       "      <td>object</td>\n",
       "      <td>0.0</td>\n",
       "      <td>2</td>\n",
       "      <td>[2-Wheelers, 4-Wheelers]</td>\n",
       "    </tr>\n",
       "    <tr>\n",
       "      <th>maker</th>\n",
       "      <td>object</td>\n",
       "      <td>0.0</td>\n",
       "      <td>26</td>\n",
       "      <td>[OLA ELECTRIC, OKAYA EV, BYD India, PCA Automo...</td>\n",
       "    </tr>\n",
       "  </tbody>\n",
       "</table>\n",
       "</div>"
      ],
      "text/plain": [
       "                       data type  percent missing  No. unique  \\\n",
       "electric_vehicles_sold     int64              0.0         603   \n",
       "date                      object              0.0          36   \n",
       "vehicle_category          object              0.0           2   \n",
       "maker                     object              0.0          26   \n",
       "\n",
       "                                                            unique values  \n",
       "electric_vehicles_sold  [0, 322, 118, 171, 12, 3, 1409, 177, 611, 15, ...  \n",
       "date                    [2021-04-01, 2022-04-01, 2021-05-01, 2021-06-0...  \n",
       "vehicle_category                                 [2-Wheelers, 4-Wheelers]  \n",
       "maker                   [OLA ELECTRIC, OKAYA EV, BYD India, PCA Automo...  "
      ]
     },
     "execution_count": 8,
     "metadata": {},
     "output_type": "execute_result"
    }
   ],
   "source": [
    "explore(makers)"
   ]
  },
  {
   "cell_type": "code",
   "execution_count": 9,
   "id": "30e11267",
   "metadata": {},
   "outputs": [
    {
     "data": {
      "text/html": [
       "<div>\n",
       "<style scoped>\n",
       "    .dataframe tbody tr th:only-of-type {\n",
       "        vertical-align: middle;\n",
       "    }\n",
       "\n",
       "    .dataframe tbody tr th {\n",
       "        vertical-align: top;\n",
       "    }\n",
       "\n",
       "    .dataframe thead th {\n",
       "        text-align: right;\n",
       "    }\n",
       "</style>\n",
       "<table border=\"1\" class=\"dataframe\">\n",
       "  <thead>\n",
       "    <tr style=\"text-align: right;\">\n",
       "      <th></th>\n",
       "      <th>data type</th>\n",
       "      <th>percent missing</th>\n",
       "      <th>No. unique</th>\n",
       "      <th>unique values</th>\n",
       "    </tr>\n",
       "  </thead>\n",
       "  <tbody>\n",
       "    <tr>\n",
       "      <th>electric_vehicles_sold</th>\n",
       "      <td>int64</td>\n",
       "      <td>0.0</td>\n",
       "      <td>921</td>\n",
       "      <td>[0, 1, 9, 26, 4, 2, 61, 8, 44, 3, 90, 132, 96,...</td>\n",
       "    </tr>\n",
       "    <tr>\n",
       "      <th>total_vehicles_sold</th>\n",
       "      <td>int64</td>\n",
       "      <td>0.0</td>\n",
       "      <td>2225</td>\n",
       "      <td>[398, 361, 113, 98, 229, 244, 458, 452, 489, 4...</td>\n",
       "    </tr>\n",
       "    <tr>\n",
       "      <th>date</th>\n",
       "      <td>object</td>\n",
       "      <td>0.0</td>\n",
       "      <td>36</td>\n",
       "      <td>[2021-04-01, 2021-05-01, 2021-06-01, 2021-07-0...</td>\n",
       "    </tr>\n",
       "    <tr>\n",
       "      <th>state</th>\n",
       "      <td>object</td>\n",
       "      <td>0.0</td>\n",
       "      <td>35</td>\n",
       "      <td>[Sikkim, Andaman &amp; Nicobar Island, Arunachal P...</td>\n",
       "    </tr>\n",
       "    <tr>\n",
       "      <th>vehicle_category</th>\n",
       "      <td>object</td>\n",
       "      <td>0.0</td>\n",
       "      <td>2</td>\n",
       "      <td>[2-Wheelers, 4-Wheelers]</td>\n",
       "    </tr>\n",
       "  </tbody>\n",
       "</table>\n",
       "</div>"
      ],
      "text/plain": [
       "                       data type  percent missing  No. unique  \\\n",
       "electric_vehicles_sold     int64              0.0         921   \n",
       "total_vehicles_sold        int64              0.0        2225   \n",
       "date                      object              0.0          36   \n",
       "state                     object              0.0          35   \n",
       "vehicle_category          object              0.0           2   \n",
       "\n",
       "                                                            unique values  \n",
       "electric_vehicles_sold  [0, 1, 9, 26, 4, 2, 61, 8, 44, 3, 90, 132, 96,...  \n",
       "total_vehicles_sold     [398, 361, 113, 98, 229, 244, 458, 452, 489, 4...  \n",
       "date                    [2021-04-01, 2021-05-01, 2021-06-01, 2021-07-0...  \n",
       "state                   [Sikkim, Andaman & Nicobar Island, Arunachal P...  \n",
       "vehicle_category                                 [2-Wheelers, 4-Wheelers]  "
      ]
     },
     "execution_count": 9,
     "metadata": {},
     "output_type": "execute_result"
    }
   ],
   "source": [
    "explore(states)"
   ]
  },
  {
   "cell_type": "code",
   "execution_count": 10,
   "id": "5b3d551e",
   "metadata": {},
   "outputs": [
    {
     "data": {
      "text/html": [
       "<div>\n",
       "<style scoped>\n",
       "    .dataframe tbody tr th:only-of-type {\n",
       "        vertical-align: middle;\n",
       "    }\n",
       "\n",
       "    .dataframe tbody tr th {\n",
       "        vertical-align: top;\n",
       "    }\n",
       "\n",
       "    .dataframe thead th {\n",
       "        text-align: right;\n",
       "    }\n",
       "</style>\n",
       "<table border=\"1\" class=\"dataframe\">\n",
       "  <thead>\n",
       "    <tr style=\"text-align: right;\">\n",
       "      <th></th>\n",
       "      <th>data type</th>\n",
       "      <th>percent missing</th>\n",
       "      <th>No. unique</th>\n",
       "      <th>unique values</th>\n",
       "    </tr>\n",
       "  </thead>\n",
       "  <tbody>\n",
       "    <tr>\n",
       "      <th>fiscal_year</th>\n",
       "      <td>int64</td>\n",
       "      <td>0.0</td>\n",
       "      <td>3</td>\n",
       "      <td>[2022, 2023, 2024]</td>\n",
       "    </tr>\n",
       "    <tr>\n",
       "      <th>date</th>\n",
       "      <td>object</td>\n",
       "      <td>0.0</td>\n",
       "      <td>36</td>\n",
       "      <td>[2021-04-01, 2021-05-01, 2021-06-01, 2021-07-0...</td>\n",
       "    </tr>\n",
       "    <tr>\n",
       "      <th>quarter</th>\n",
       "      <td>object</td>\n",
       "      <td>0.0</td>\n",
       "      <td>4</td>\n",
       "      <td>[Q1, Q2, Q3, Q4]</td>\n",
       "    </tr>\n",
       "  </tbody>\n",
       "</table>\n",
       "</div>"
      ],
      "text/plain": [
       "            data type  percent missing  No. unique  \\\n",
       "fiscal_year     int64              0.0           3   \n",
       "date           object              0.0          36   \n",
       "quarter        object              0.0           4   \n",
       "\n",
       "                                                 unique values  \n",
       "fiscal_year                                 [2022, 2023, 2024]  \n",
       "date         [2021-04-01, 2021-05-01, 2021-06-01, 2021-07-0...  \n",
       "quarter                                       [Q1, Q2, Q3, Q4]  "
      ]
     },
     "execution_count": 10,
     "metadata": {},
     "output_type": "execute_result"
    }
   ],
   "source": [
    "explore(dim)"
   ]
  },
  {
   "cell_type": "code",
   "execution_count": 11,
   "id": "eaae4d51",
   "metadata": {},
   "outputs": [
    {
     "data": {
      "text/plain": [
       "array(['OLA ELECTRIC', 'OKAYA EV', 'BYD India', 'PCA Automobiles',\n",
       "       'BMW India', 'Volvo Auto India', 'KIA Motors', 'Mercedes -Benz AG',\n",
       "       'Tata Motors', 'MG Motor', 'Mahindra & Mahindra', 'Hyundai Motor',\n",
       "       'HERO ELECTRIC', 'OKINAWA', 'AMPERE', 'ATHER', 'PURE EV', 'TVS',\n",
       "       'REVOLT', 'BAJAJ', 'BEING', 'JITENDRA', 'OTHERS', 'BGAUSS',\n",
       "       'BATTRE ELECTRIC', 'KINETIC GREEN'], dtype=object)"
      ]
     },
     "execution_count": 11,
     "metadata": {},
     "output_type": "execute_result"
    }
   ],
   "source": [
    "makers['maker'].unique()"
   ]
  },
  {
   "cell_type": "code",
   "execution_count": 12,
   "id": "e6bb3c34",
   "metadata": {},
   "outputs": [],
   "source": [
    "maker_logo = {\n",
    "    'AMPERE': 'https://raw.githubusercontent.com/gentallman/EV_Sales_India/main/Logos/White/AMPERE_EV.png',\n",
    "    'ATHER': 'https://raw.githubusercontent.com/gentallman/EV_Sales_India/main/Logos/White/ATHER.png',\n",
    "    'BAJAJ': 'https://raw.githubusercontent.com/gentallman/EV_Sales_India/main/Logos/White/BAJAJ.png',\n",
    "    'BATTRE ELECTRIC': 'https://raw.githubusercontent.com/gentallman/EV_Sales_India/main/Logos/White/BATTRE_ELECTRIC.png',\n",
    "    'BEING': 'https://raw.githubusercontent.com/gentallman/EV_Sales_India/main/Logos/White/BEING.png',\n",
    "    'BGAUSS': 'https://raw.githubusercontent.com/gentallman/EV_Sales_India/main/Logos/White/BGAUSS.png',\n",
    "    'BMW India': 'https://raw.githubusercontent.com/gentallman/EV_Sales_India/main/Logos/White/BMW_INDIA.png',\n",
    "    'BYD India': 'https://raw.githubusercontent.com/gentallman/EV_Sales_India/main/Logos/White/BYD_INDIA.png',\n",
    "    'HERO ELECTRIC': 'https://raw.githubusercontent.com/gentallman/EV_Sales_India/main/Logos/White/HERO_ELECTRIC.png',\n",
    "    'Hyundai Motor': 'https://raw.githubusercontent.com/gentallman/EV_Sales_India/main/Logos/White/HYUNDAI_MOTOR.png',\n",
    "    'JITENDRA': 'https://raw.githubusercontent.com/gentallman/EV_Sales_India/main/Logos/White/JITENDRA.png',\n",
    "    'KINETIC GREEN': 'https://raw.githubusercontent.com/gentallman/EV_Sales_India/main/Logos/White/KINETIC_GREEN.png',\n",
    "    'KIA Motors': 'https://raw.githubusercontent.com/gentallman/EV_Sales_India/main/Logos/White/KIA_MOTORS.png',\n",
    "    'Mahindra & Mahindra': 'https://raw.githubusercontent.com/gentallman/EV_Sales_India/main/Logos/White/MAHINDRA_AND_MAHINDRA.png',\n",
    "    'Mercedes -Benz AG': 'https://raw.githubusercontent.com/gentallman/EV_Sales_India/main/Logos/White/MERCEDES_BENZ_AG.png',\n",
    "    'MG Motor': 'https://raw.githubusercontent.com/gentallman/EV_Sales_India/main/Logos/White/MG_MOTOR.png',\n",
    "    'OLA ELECTRIC': 'https://raw.githubusercontent.com/gentallman/EV_Sales_India/main/Logos/White/OLA_ELECTRIC.png',\n",
    "    'OKAYA EV': 'https://raw.githubusercontent.com/gentallman/EV_Sales_India/main/Logos/White/OKAYA_EV.png',\n",
    "    'OKINAWA': 'https://raw.githubusercontent.com/gentallman/EV_Sales_India/main/Logos/White/OKINAWA.png',\n",
    "    'OTHERS': 'https://raw.githubusercontent.com/gentallman/EV_Sales_India/main/Logos/White/OTHERS.png',\n",
    "    'PCA Automobiles': 'https://raw.githubusercontent.com/gentallman/EV_Sales_India/main/Logos/White/PCA_AUTOMOBILES.png',\n",
    "    'PURE EV': 'https://raw.githubusercontent.com/gentallman/EV_Sales_India/main/Logos/White/PURE_EV.png',\n",
    "    'REVOLT': 'https://raw.githubusercontent.com/gentallman/EV_Sales_India/main/Logos/White/REVOLT.png',\n",
    "    'Tata Motors': 'https://raw.githubusercontent.com/gentallman/EV_Sales_India/main/Logos/White/TATA_MOTORS.png',\n",
    "    'TVS': 'https://raw.githubusercontent.com/gentallman/EV_Sales_India/main/Logos/White/TVS.png',\n",
    "    'Volvo Auto India': 'https://raw.githubusercontent.com/gentallman/EV_Sales_India/main/Logos/White/VOLVO_AUTO_INDIA.png'\n",
    "}"
   ]
  },
  {
   "cell_type": "code",
   "execution_count": 13,
   "id": "bd72b184",
   "metadata": {},
   "outputs": [],
   "source": [
    "vehicle_category_logo = {\n",
    "    '2-Wheelers': 'https://raw.githubusercontent.com/gentallman/EV_Sales_India/main/Assets/2W_White.png',\n",
    "    '4-Wheelers': 'https://raw.githubusercontent.com/gentallman/EV_Sales_India/main/Assets/4W_White.png',\n",
    "}"
   ]
  },
  {
   "cell_type": "code",
   "execution_count": 14,
   "id": "6861bf06",
   "metadata": {},
   "outputs": [],
   "source": [
    "# Map the logos to the DataFrame\n",
    "makers['maker_logo'] = makers['maker'].map(maker_logo)\n",
    "makers['vehicle_category_logo'] = makers['vehicle_category'].map(vehicle_category_logo)\n",
    "states['vehicle_category_logo'] = states['vehicle_category'].map(vehicle_category_logo)"
   ]
  },
  {
   "cell_type": "code",
   "execution_count": 15,
   "id": "7d11c67b",
   "metadata": {},
   "outputs": [],
   "source": [
    "makers.to_csv(r'E:\\Work\\Projects\\PowerBI\\EV_Sales_India\\Data\\Transformed\\sales_by_makers.csv', index=False)"
   ]
  },
  {
   "cell_type": "code",
   "execution_count": 16,
   "id": "021cd747",
   "metadata": {},
   "outputs": [],
   "source": [
    "states.to_csv(r'E:\\Work\\Projects\\PowerBI\\EV_Sales_India\\Data\\Transformed\\sales_by_states.csv', index=False)"
   ]
  },
  {
   "cell_type": "code",
   "execution_count": 17,
   "id": "8e744366",
   "metadata": {},
   "outputs": [],
   "source": [
    "dim.to_csv(r'E:\\Work\\Projects\\PowerBI\\EV_Sales_India\\Data\\Transformed\\dimension.csv', index=False)"
   ]
  },
  {
   "cell_type": "code",
   "execution_count": null,
   "id": "72f943fa-dcb7-4669-b702-bfb02c12108f",
   "metadata": {},
   "outputs": [],
   "source": []
  }
 ],
 "metadata": {
  "kernelspec": {
   "display_name": "Python 3 (ipykernel)",
   "language": "python",
   "name": "python3"
  },
  "language_info": {
   "codemirror_mode": {
    "name": "ipython",
    "version": 3
   },
   "file_extension": ".py",
   "mimetype": "text/x-python",
   "name": "python",
   "nbconvert_exporter": "python",
   "pygments_lexer": "ipython3",
   "version": "3.12.3"
  }
 },
 "nbformat": 4,
 "nbformat_minor": 5
}
